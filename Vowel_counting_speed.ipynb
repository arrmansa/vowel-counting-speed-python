{
  "cells": [
    {
      "cell_type": "code",
      "source": [
        "import numpy as np"
      ],
      "metadata": {
        "id": "27uLkpyirI4D"
      },
      "execution_count": 1,
      "outputs": []
    },
    {
      "cell_type": "code",
      "source": [
        "vowels_np = np.frombuffer(\"aeiou\".encode('ascii'), dtype=np.uint8)\n",
        "vowels_set = set('aeiou')"
      ],
      "metadata": {
        "id": "H0Uvk85RrNgD"
      },
      "execution_count": 2,
      "outputs": []
    },
    {
      "cell_type": "code",
      "source": [
        "mystring = \"qwertyuiopasdfghjklzxcvbnm\"\n",
        "print(len(mystring))"
      ],
      "metadata": {
        "colab": {
          "base_uri": "https://localhost:8080/"
        },
        "id": "QImJWWBEraBy",
        "outputId": "de6e5087-53dc-4625-8a09-3f3a8b7e5ae2"
      },
      "execution_count": 3,
      "outputs": [
        {
          "output_type": "stream",
          "name": "stdout",
          "text": [
            "26\n"
          ]
        }
      ]
    },
    {
      "cell_type": "code",
      "source": [
        "%%timeit\n",
        "sum(map(mystring.lower().count, 'aeiou'))"
      ],
      "metadata": {
        "colab": {
          "base_uri": "https://localhost:8080/"
        },
        "id": "C7Rz15_6rPCo",
        "outputId": "303e38c9-99b3-41f7-c2ec-6c5c88f7d6ce"
      },
      "execution_count": 4,
      "outputs": [
        {
          "output_type": "stream",
          "name": "stdout",
          "text": [
            "1.73 µs ± 343 ns per loop (mean ± std. dev. of 7 runs, 100000 loops each)\n"
          ]
        }
      ]
    },
    {
      "cell_type": "code",
      "source": [
        "%%timeit\n",
        "count = sum([1 for c in mystring.lower() if c in vowels_set])"
      ],
      "metadata": {
        "colab": {
          "base_uri": "https://localhost:8080/"
        },
        "id": "uMpVab68rRZU",
        "outputId": "936b1fb4-dd9b-4eff-e210-a1a761c6f4ce"
      },
      "execution_count": 5,
      "outputs": [
        {
          "output_type": "stream",
          "name": "stdout",
          "text": [
            "2.57 µs ± 553 ns per loop (mean ± std. dev. of 7 runs, 100000 loops each)\n"
          ]
        }
      ]
    },
    {
      "cell_type": "code",
      "source": [
        "%%timeit\n",
        "count = sum([c in vowels_set for c in mystring.lower()])"
      ],
      "metadata": {
        "colab": {
          "base_uri": "https://localhost:8080/"
        },
        "id": "oDvLGuSHrSpK",
        "outputId": "b9a5da73-151a-462d-b14f-e0ff3a1b8662"
      },
      "execution_count": 6,
      "outputs": [
        {
          "output_type": "stream",
          "name": "stdout",
          "text": [
            "2.4 µs ± 91.9 ns per loop (mean ± std. dev. of 7 runs, 100000 loops each)\n"
          ]
        }
      ]
    },
    {
      "cell_type": "code",
      "source": [
        "%%timeit\n",
        "mystringarray = np.frombuffer(mystring.lower().encode('ascii', 'ignore'), dtype=np.uint8)\n",
        "np.isin(mystringarray, vowels_np).sum()"
      ],
      "metadata": {
        "colab": {
          "base_uri": "https://localhost:8080/"
        },
        "id": "_xp5SorirT8V",
        "outputId": "8874f152-b231-4453-9746-1558127ce637"
      },
      "execution_count": 7,
      "outputs": [
        {
          "output_type": "stream",
          "name": "stdout",
          "text": [
            "27 µs ± 5.87 µs per loop (mean ± std. dev. of 7 runs, 10000 loops each)\n"
          ]
        }
      ]
    },
    {
      "cell_type": "code",
      "source": [
        "mystring = \"qwertyuiopasdfghjklzxcvbnm\"*10\n",
        "print(len(mystring))"
      ],
      "metadata": {
        "id": "5002lIFjrclI",
        "outputId": "59db28b1-fb3c-45f9-df9c-e4f17d496bee",
        "colab": {
          "base_uri": "https://localhost:8080/"
        }
      },
      "execution_count": 8,
      "outputs": [
        {
          "output_type": "stream",
          "name": "stdout",
          "text": [
            "260\n"
          ]
        }
      ]
    },
    {
      "cell_type": "code",
      "source": [
        "%%timeit\n",
        "sum(map(mystring.lower().count, 'aeiou'))"
      ],
      "metadata": {
        "id": "TLABu_slrclI",
        "outputId": "4266a4c2-7112-4518-fccf-d49367949f62",
        "colab": {
          "base_uri": "https://localhost:8080/"
        }
      },
      "execution_count": 9,
      "outputs": [
        {
          "output_type": "stream",
          "name": "stdout",
          "text": [
            "2.13 µs ± 117 ns per loop (mean ± std. dev. of 7 runs, 100000 loops each)\n"
          ]
        }
      ]
    },
    {
      "cell_type": "code",
      "source": [
        "%%timeit\n",
        "count = sum([1 for c in mystring.lower() if c in vowels_set])"
      ],
      "metadata": {
        "id": "qu37idfGrclI",
        "outputId": "f658eee3-2b2a-4c86-a3be-2e4410c75bbe",
        "colab": {
          "base_uri": "https://localhost:8080/"
        }
      },
      "execution_count": 10,
      "outputs": [
        {
          "output_type": "stream",
          "name": "stdout",
          "text": [
            "26.2 µs ± 14 µs per loop (mean ± std. dev. of 7 runs, 100000 loops each)\n"
          ]
        }
      ]
    },
    {
      "cell_type": "code",
      "source": [
        "%%timeit\n",
        "count = sum([c in vowels_set for c in mystring.lower()])"
      ],
      "metadata": {
        "id": "uI514gExrclI",
        "outputId": "2aa5e9d6-de5f-4c0e-ba68-3992b6e8f013",
        "colab": {
          "base_uri": "https://localhost:8080/"
        }
      },
      "execution_count": 11,
      "outputs": [
        {
          "output_type": "stream",
          "name": "stdout",
          "text": [
            "21.2 µs ± 1.38 µs per loop (mean ± std. dev. of 7 runs, 10000 loops each)\n"
          ]
        }
      ]
    },
    {
      "cell_type": "code",
      "source": [
        "%%timeit\n",
        "mystringarray = np.frombuffer(mystring.lower().encode('ascii', 'ignore'), dtype=np.uint8)\n",
        "np.isin(mystringarray, vowels_np).sum()"
      ],
      "metadata": {
        "id": "vOTBzcyMrclI",
        "outputId": "cc9562d6-67ee-4316-fb1e-ad6053ed5cc3",
        "colab": {
          "base_uri": "https://localhost:8080/"
        }
      },
      "execution_count": 12,
      "outputs": [
        {
          "output_type": "stream",
          "name": "stdout",
          "text": [
            "24.1 µs ± 533 ns per loop (mean ± std. dev. of 7 runs, 10000 loops each)\n"
          ]
        }
      ]
    },
    {
      "cell_type": "code",
      "source": [
        "mystring = \"qwertyuiopasdfghjklzxcvbnm\"*100\n",
        "print(len(mystring))"
      ],
      "metadata": {
        "id": "0ZQ2N7WargY_",
        "outputId": "f830d728-cc91-4e53-fdd6-50ceb9fe6645",
        "colab": {
          "base_uri": "https://localhost:8080/"
        }
      },
      "execution_count": 13,
      "outputs": [
        {
          "output_type": "stream",
          "name": "stdout",
          "text": [
            "2600\n"
          ]
        }
      ]
    },
    {
      "cell_type": "code",
      "source": [
        "%%timeit\n",
        "sum(map(mystring.lower().count, 'aeiou'))"
      ],
      "metadata": {
        "id": "E4u28vS8rgY_",
        "outputId": "46a3f221-17f4-438a-f430-16a838d6ce21",
        "colab": {
          "base_uri": "https://localhost:8080/"
        }
      },
      "execution_count": 14,
      "outputs": [
        {
          "output_type": "stream",
          "name": "stdout",
          "text": [
            "14.4 µs ± 3.93 µs per loop (mean ± std. dev. of 7 runs, 100000 loops each)\n"
          ]
        }
      ]
    },
    {
      "cell_type": "code",
      "source": [
        "%%timeit\n",
        "count = sum([1 for c in mystring.lower() if c in vowels_set])"
      ],
      "metadata": {
        "id": "emvLlqsirgY_",
        "outputId": "99f7fd55-e36c-4dd6-d9b3-1fcb15d013d6",
        "colab": {
          "base_uri": "https://localhost:8080/"
        }
      },
      "execution_count": 15,
      "outputs": [
        {
          "output_type": "stream",
          "name": "stdout",
          "text": [
            "161 µs ± 29.6 µs per loop (mean ± std. dev. of 7 runs, 10000 loops each)\n"
          ]
        }
      ]
    },
    {
      "cell_type": "code",
      "source": [
        "%%timeit\n",
        "count = sum([c in vowels_set for c in mystring.lower()])"
      ],
      "metadata": {
        "id": "GibEXxpIrgY_",
        "outputId": "d417b23f-c4b3-41d3-a963-40638e753857",
        "colab": {
          "base_uri": "https://localhost:8080/"
        }
      },
      "execution_count": 16,
      "outputs": [
        {
          "output_type": "stream",
          "name": "stdout",
          "text": [
            "215 µs ± 7.28 µs per loop (mean ± std. dev. of 7 runs, 1000 loops each)\n"
          ]
        }
      ]
    },
    {
      "cell_type": "code",
      "source": [
        "%%timeit\n",
        "mystringarray = np.frombuffer(mystring.lower().encode('ascii', 'ignore'), dtype=np.uint8)\n",
        "np.isin(mystringarray, vowels_np).sum()"
      ],
      "metadata": {
        "id": "R4AblTRIrgY_",
        "outputId": "2d6cd06d-2072-459d-8f12-7c900ff78f02",
        "colab": {
          "base_uri": "https://localhost:8080/"
        }
      },
      "execution_count": 17,
      "outputs": [
        {
          "output_type": "stream",
          "name": "stdout",
          "text": [
            "48.7 µs ± 10.1 µs per loop (mean ± std. dev. of 7 runs, 10000 loops each)\n"
          ]
        }
      ]
    },
    {
      "cell_type": "code",
      "source": [
        "mystring = \"qwertyuiopasdfghjklzxcvbnm\"*1000\n",
        "print(len(mystring))"
      ],
      "metadata": {
        "id": "7Mca-3brrpJE",
        "outputId": "2256e0b7-ce60-4ddb-f9d7-ffd6ec94a8f3",
        "colab": {
          "base_uri": "https://localhost:8080/"
        }
      },
      "execution_count": 18,
      "outputs": [
        {
          "output_type": "stream",
          "name": "stdout",
          "text": [
            "26000\n"
          ]
        }
      ]
    },
    {
      "cell_type": "code",
      "source": [
        "%%timeit\n",
        "sum(map(mystring.lower().count, 'aeiou'))"
      ],
      "metadata": {
        "id": "fYOZpflMrpJE",
        "outputId": "c0fca383-1945-492d-b62a-8067075ce025",
        "colab": {
          "base_uri": "https://localhost:8080/"
        }
      },
      "execution_count": 19,
      "outputs": [
        {
          "output_type": "stream",
          "name": "stdout",
          "text": [
            "120 µs ± 5.07 µs per loop (mean ± std. dev. of 7 runs, 10000 loops each)\n"
          ]
        }
      ]
    },
    {
      "cell_type": "code",
      "source": [
        "%%timeit\n",
        "count = sum([1 for c in mystring.lower() if c in vowels_set])"
      ],
      "metadata": {
        "id": "RPbgaZLnrpJE",
        "outputId": "f352650e-9bf6-4882-aadf-9c9a9440d69c",
        "colab": {
          "base_uri": "https://localhost:8080/"
        }
      },
      "execution_count": 20,
      "outputs": [
        {
          "output_type": "stream",
          "name": "stdout",
          "text": [
            "2.97 ms ± 121 µs per loop (mean ± std. dev. of 7 runs, 100 loops each)\n"
          ]
        }
      ]
    },
    {
      "cell_type": "code",
      "source": [
        "%%timeit\n",
        "count = sum([c in vowels_set for c in mystring.lower()])"
      ],
      "metadata": {
        "id": "dPCrTHbprpJE",
        "outputId": "a0b3ad89-0f55-4a7a-e88b-15418c156460",
        "colab": {
          "base_uri": "https://localhost:8080/"
        }
      },
      "execution_count": 21,
      "outputs": [
        {
          "output_type": "stream",
          "name": "stdout",
          "text": [
            "2.45 ms ± 67.8 µs per loop (mean ± std. dev. of 7 runs, 100 loops each)\n"
          ]
        }
      ]
    },
    {
      "cell_type": "code",
      "source": [
        "%%timeit\n",
        "mystringarray = np.frombuffer(mystring.lower().encode('ascii', 'ignore'), dtype=np.uint8)\n",
        "np.isin(mystringarray, vowels_np).sum()"
      ],
      "metadata": {
        "id": "pWzBlcc-rpJF",
        "outputId": "e0cd11fc-90ec-4a03-fa17-b69045192ca7",
        "colab": {
          "base_uri": "https://localhost:8080/"
        }
      },
      "execution_count": 22,
      "outputs": [
        {
          "output_type": "stream",
          "name": "stdout",
          "text": [
            "86.2 µs ± 931 ns per loop (mean ± std. dev. of 7 runs, 10000 loops each)\n"
          ]
        }
      ]
    },
    {
      "cell_type": "code",
      "source": [
        "mystring = \"qwertyuiopasdfghjklzxcvbnm\"*10000\n",
        "print(len(mystring))"
      ],
      "metadata": {
        "id": "I6reC0l2rrcH",
        "outputId": "2b4d863b-d4a6-4042-e923-35dfc3373c59",
        "colab": {
          "base_uri": "https://localhost:8080/"
        }
      },
      "execution_count": 23,
      "outputs": [
        {
          "output_type": "stream",
          "name": "stdout",
          "text": [
            "260000\n"
          ]
        }
      ]
    },
    {
      "cell_type": "code",
      "source": [
        "%%timeit\n",
        "sum(map(mystring.lower().count, 'aeiou'))"
      ],
      "metadata": {
        "id": "iNNw6DOnrrcH",
        "outputId": "6042283f-90d1-4b57-888a-7b5505abcf73",
        "colab": {
          "base_uri": "https://localhost:8080/"
        }
      },
      "execution_count": 24,
      "outputs": [
        {
          "output_type": "stream",
          "name": "stdout",
          "text": [
            "1.31 ms ± 351 µs per loop (mean ± std. dev. of 7 runs, 1000 loops each)\n"
          ]
        }
      ]
    },
    {
      "cell_type": "code",
      "source": [
        "%%timeit\n",
        "count = sum([1 for c in mystring.lower() if c in vowels_set])"
      ],
      "metadata": {
        "id": "ITDRdaiTrrcH",
        "outputId": "e9faeaed-7138-4d46-acea-246946c4f1bd",
        "colab": {
          "base_uri": "https://localhost:8080/"
        }
      },
      "execution_count": 25,
      "outputs": [
        {
          "output_type": "stream",
          "name": "stdout",
          "text": [
            "17.4 ms ± 3.72 ms per loop (mean ± std. dev. of 7 runs, 100 loops each)\n"
          ]
        }
      ]
    },
    {
      "cell_type": "code",
      "source": [
        "%%timeit\n",
        "count = sum([c in vowels_set for c in mystring.lower()])"
      ],
      "metadata": {
        "id": "AKM0Za5SrrcH",
        "outputId": "41f07339-c48b-43a1-f802-8e7ebb17d927",
        "colab": {
          "base_uri": "https://localhost:8080/"
        }
      },
      "execution_count": 26,
      "outputs": [
        {
          "output_type": "stream",
          "name": "stdout",
          "text": [
            "28.2 ms ± 6.43 ms per loop (mean ± std. dev. of 7 runs, 10 loops each)\n"
          ]
        }
      ]
    },
    {
      "cell_type": "code",
      "source": [
        "%%timeit\n",
        "mystringarray = np.frombuffer(mystring.lower().encode('ascii', 'ignore'), dtype=np.uint8)\n",
        "np.isin(mystringarray, vowels_np).sum()"
      ],
      "metadata": {
        "id": "GR7I3INzrrcH",
        "outputId": "9b35ea19-e3a5-4475-d515-3a4d52749341",
        "colab": {
          "base_uri": "https://localhost:8080/"
        }
      },
      "execution_count": 27,
      "outputs": [
        {
          "output_type": "stream",
          "name": "stdout",
          "text": [
            "699 µs ± 98.9 µs per loop (mean ± std. dev. of 7 runs, 1000 loops each)\n"
          ]
        }
      ]
    },
    {
      "cell_type": "code",
      "source": [
        "mystring = \"qwertyuiopasdfghjklzxcvbnm\"*100000\n",
        "print(len(mystring))"
      ],
      "metadata": {
        "id": "R5_MZB8Crtu7",
        "outputId": "3c4a4822-416f-4594-ae19-f4ff1b6cfefc",
        "colab": {
          "base_uri": "https://localhost:8080/"
        }
      },
      "execution_count": 28,
      "outputs": [
        {
          "output_type": "stream",
          "name": "stdout",
          "text": [
            "2600000\n"
          ]
        }
      ]
    },
    {
      "cell_type": "code",
      "source": [
        "%%timeit\n",
        "sum(map(mystring.lower().count, 'aeiou'))"
      ],
      "metadata": {
        "colab": {
          "base_uri": "https://localhost:8080/"
        },
        "id": "i_kEnQNRrtu7",
        "outputId": "235c2e3a-ba73-487d-9ead-a8b39745a7fd"
      },
      "execution_count": 29,
      "outputs": [
        {
          "output_type": "stream",
          "name": "stdout",
          "text": [
            "14.5 ms ± 3.54 ms per loop (mean ± std. dev. of 7 runs, 100 loops each)\n"
          ]
        }
      ]
    },
    {
      "cell_type": "code",
      "source": [
        "%%timeit\n",
        "count = sum([1 for c in mystring.lower() if c in vowels_set])"
      ],
      "metadata": {
        "colab": {
          "base_uri": "https://localhost:8080/"
        },
        "id": "jxN5YMr5rtu7",
        "outputId": "48c0427e-5b0d-465e-d199-aebaf1ce83f5"
      },
      "execution_count": 30,
      "outputs": [
        {
          "output_type": "stream",
          "name": "stdout",
          "text": [
            "179 ms ± 30.4 ms per loop (mean ± std. dev. of 7 runs, 10 loops each)\n"
          ]
        }
      ]
    },
    {
      "cell_type": "code",
      "source": [
        "%%timeit\n",
        "count = sum([c in vowels_set for c in mystring.lower()])"
      ],
      "metadata": {
        "colab": {
          "base_uri": "https://localhost:8080/"
        },
        "id": "S1qgRCJbrtu7",
        "outputId": "82ce15fc-f023-401a-fa13-8af2d362f02a"
      },
      "execution_count": 31,
      "outputs": [
        {
          "output_type": "stream",
          "name": "stdout",
          "text": [
            "342 ms ± 103 ms per loop (mean ± std. dev. of 7 runs, 1 loop each)\n"
          ]
        }
      ]
    },
    {
      "cell_type": "code",
      "source": [
        "%%timeit\n",
        "mystringarray = np.frombuffer(mystring.lower().encode('ascii', 'ignore'), dtype=np.uint8)\n",
        "np.isin(mystringarray, vowels_np).sum()"
      ],
      "metadata": {
        "colab": {
          "base_uri": "https://localhost:8080/"
        },
        "id": "p9kv1AJ9rtu7",
        "outputId": "390745a2-6a4b-455a-fed8-cc96d1e87eb7"
      },
      "execution_count": 32,
      "outputs": [
        {
          "output_type": "stream",
          "name": "stdout",
          "text": [
            "8.18 ms ± 917 µs per loop (mean ± std. dev. of 7 runs, 100 loops each)\n"
          ]
        }
      ]
    },
    {
      "cell_type": "code",
      "source": [
        "mystring = \"qwertyuiopasdfghjklzxcvbnm\"*1000000\n",
        "print(len(mystring))"
      ],
      "metadata": {
        "id": "0YKcjnXTsmRe",
        "outputId": "dfd9526c-d719-45d7-9ec4-6761de04735b",
        "colab": {
          "base_uri": "https://localhost:8080/"
        }
      },
      "execution_count": 33,
      "outputs": [
        {
          "output_type": "stream",
          "name": "stdout",
          "text": [
            "26000000\n"
          ]
        }
      ]
    },
    {
      "cell_type": "code",
      "source": [
        "%%timeit\n",
        "sum(map(mystring.lower().count, 'aeiou'))"
      ],
      "metadata": {
        "outputId": "f310051e-225e-42d3-d0ae-08823915cc37",
        "colab": {
          "base_uri": "https://localhost:8080/"
        },
        "id": "auB6c8BwsoST"
      },
      "execution_count": 34,
      "outputs": [
        {
          "output_type": "stream",
          "name": "stdout",
          "text": [
            "134 ms ± 29.9 ms per loop (mean ± std. dev. of 7 runs, 10 loops each)\n"
          ]
        }
      ]
    },
    {
      "cell_type": "code",
      "source": [
        "%%timeit\n",
        "count = sum([1 for c in mystring.lower() if c in vowels_set])"
      ],
      "metadata": {
        "outputId": "ea3e5642-ae3e-48e3-d34e-5b47f454116f",
        "colab": {
          "base_uri": "https://localhost:8080/"
        },
        "id": "N6Ud4cajsoST"
      },
      "execution_count": 35,
      "outputs": [
        {
          "output_type": "stream",
          "name": "stdout",
          "text": [
            "1.8 s ± 340 ms per loop (mean ± std. dev. of 7 runs, 1 loop each)\n"
          ]
        }
      ]
    },
    {
      "cell_type": "code",
      "source": [
        "%%timeit\n",
        "count = sum([c in vowels_set for c in mystring.lower()])"
      ],
      "metadata": {
        "outputId": "cb4322bf-547f-46a6-b7fc-cca20a64dd54",
        "colab": {
          "base_uri": "https://localhost:8080/"
        },
        "id": "5NDl9vM1soST"
      },
      "execution_count": 36,
      "outputs": [
        {
          "output_type": "stream",
          "name": "stdout",
          "text": [
            "2.97 s ± 582 ms per loop (mean ± std. dev. of 7 runs, 1 loop each)\n"
          ]
        }
      ]
    },
    {
      "cell_type": "code",
      "source": [
        "%%timeit\n",
        "mystringarray = np.frombuffer(mystring.lower().encode('ascii', 'ignore'), dtype=np.uint8)\n",
        "np.isin(mystringarray, vowels_np).sum()"
      ],
      "metadata": {
        "outputId": "8775438b-b3ae-49fb-e92f-a00085dda845",
        "colab": {
          "base_uri": "https://localhost:8080/"
        },
        "id": "0AKtMRV4soSU"
      },
      "execution_count": 37,
      "outputs": [
        {
          "output_type": "stream",
          "name": "stdout",
          "text": [
            "106 ms ± 8.47 ms per loop (mean ± std. dev. of 7 runs, 10 loops each)\n"
          ]
        }
      ]
    }
  ],
  "metadata": {
    "colab": {
      "name": "Welcome To Colaboratory",
      "toc_visible": true,
      "provenance": []
    },
    "kernelspec": {
      "display_name": "Python 3",
      "name": "python3"
    }
  },
  "nbformat": 4,
  "nbformat_minor": 0
}